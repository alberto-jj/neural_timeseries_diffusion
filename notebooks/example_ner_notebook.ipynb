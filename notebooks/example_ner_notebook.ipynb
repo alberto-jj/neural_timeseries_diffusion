{
 "cells": [
  {
   "cell_type": "markdown",
   "metadata": {},
   "source": [
    "# Notebook for training a DDPM on the BCI Challenge @ NER 2015\n",
    "\n",
    "This notebooks trains a DDPM from scratch to generate synthetic EEG trials.\n",
    "The generated trials can then be plotted and compared to the real data.\n",
    "The data is provided in the `data` folder."
   ]
  },
  {
   "cell_type": "code",
   "execution_count": null,
   "metadata": {},
   "outputs": [],
   "source": [
    "import logging\n",
    "\n",
    "import matplotlib.pyplot as plt\n",
    "import mne\n",
    "import numpy as np\n",
    "import torch\n",
    "from hydra import compose, initialize\n",
    "from omegaconf import OmegaConf\n",
    "from pandas import read_csv\n",
    "\n",
    "from ntd.datasets import NER_BCI\n",
    "from ntd.train_diffusion_model import training_and_eval_pipeline\n",
    "from ntd.utils.plotting_utils import (\n",
    "    basic_plotting,\n",
    "    plot_overlapping_signal,\n",
    "    plot_sd,\n",
    ")\n",
    "from ntd.utils.utils import l2_distances\n",
    "\n",
    "logging.basicConfig(level=logging.INFO)\n"
   ]
  },
  {
   "cell_type": "markdown",
   "metadata": {},
   "source": [
    "## Create the config\n",
    "\n",
    "If you want to make changes to the network architecture or optimization, override the config in `overrides`."
   ]
  },
  {
   "cell_type": "code",
   "execution_count": null,
   "metadata": {},
   "outputs": [],
   "source": [
    "data_path = \"../data\"\n",
    "with initialize(version_base=None, config_path=\"../conf\"):\n",
    "    cfg = compose(\n",
    "        config_name=\"config\",\n",
    "        overrides=[\n",
    "            \"base.experiment=ner_example\",\n",
    "            \"base.tag=unconditional_wn\",\n",
    "            \"base.wandb_mode=disabled\",\n",
    "            f\"dataset.filepath={data_path}\",\n",
    "            \"base.save_path=null\",\n",
    "            \"optimizer.num_epochs=1\",\n",
    "            \"optimizer.lr=0.0004\",\n",
    "            \"diffusion=diffusion_quad_50\",\n",
    "            \"+experiments/generate_samples=generate_samples\",\n",
    "        ],\n",
    "    )\n",
    "    print(OmegaConf.to_yaml(cfg))\n"
   ]
  },
  {
   "cell_type": "markdown",
   "metadata": {},
   "source": [
    "## Train the model and and generate samples"
   ]
  },
  {
   "cell_type": "code",
   "execution_count": null,
   "metadata": {},
   "outputs": [],
   "source": [
    "diffusion_model, samples = training_and_eval_pipeline(cfg)\n",
    "samples_numpy = samples.numpy()\n"
   ]
  },
  {
   "cell_type": "code",
   "execution_count": null,
   "metadata": {},
   "outputs": [],
   "source": [
    "raw_numpy = NER_BCI(cfg.dataset.patient_id, filepath=cfg.dataset.filepath).data_array\n",
    "\n",
    "assert samples_numpy.shape == raw_numpy.shape\n",
    "num_trials, num_channels, sig_length = raw_numpy.shape\n"
   ]
  },
  {
   "cell_type": "markdown",
   "metadata": {},
   "source": [
    "## Plot some random real and generated samples"
   ]
  },
  {
   "cell_type": "code",
   "execution_count": null,
   "metadata": {},
   "outputs": [],
   "source": [
    "rand_id = np.random.randint(len(samples_numpy))\n",
    "print(rand_id)\n",
    "offset = -1.1\n",
    "fig, ax = plt.subplots()\n",
    "plot_overlapping_signal(\n",
    "    fig,\n",
    "    ax,\n",
    "    sig=raw_numpy[rand_id] + offset * np.arange(num_channels)[:, np.newaxis],\n",
    "    colors=[\"dimgrey\"],\n",
    ")\n",
    "basic_plotting(\n",
    "    fig,\n",
    "    ax,\n",
    "    y_ticks=[],\n",
    "    x_lim=(0, 260),\n",
    "    x_ticks=[0, 260],\n",
    "    x_ticklabels=[0, 1.3],\n",
    "    x_label=\"time [s]\",\n",
    ")\n",
    "fig.tight_layout()\n",
    "plt.show()\n",
    "\n",
    "fig, ax = plt.subplots()\n",
    "plot_overlapping_signal(\n",
    "    fig,\n",
    "    ax,\n",
    "    samples_numpy[rand_id] + offset * np.arange(num_channels)[:, np.newaxis],\n",
    "    colors=[\"black\"],\n",
    ")\n",
    "basic_plotting(\n",
    "    fig,\n",
    "    ax,\n",
    "    y_ticks=[],\n",
    "    x_lim=(0, 260),\n",
    "    x_ticks=[0, 260],\n",
    "    x_ticklabels=[0, 1.3],\n",
    "    x_label=\"time [s]\",\n",
    ")\n",
    "fig.tight_layout()\n",
    "plt.show()\n"
   ]
  },
  {
   "cell_type": "markdown",
   "metadata": {},
   "source": [
    "## Plot the power spectral density\n",
    "\n",
    "For all 56 channels up until 60Hz.\n",
    "Red is generated, black is real.\n",
    "Pointwise median and 25% / 75% percentiles are shown."
   ]
  },
  {
   "cell_type": "code",
   "execution_count": null,
   "metadata": {},
   "outputs": [],
   "source": [
    "fig, axs = plt.subplots(num_channels // 10 + 1, 10, figsize=(45, 35))\n",
    "for idx in range(num_channels):\n",
    "    plot_sd(\n",
    "        fig=fig,\n",
    "        ax=axs[idx // 10, idx % 10],\n",
    "        arr_one=raw_numpy[:, idx, :],\n",
    "        arr_two=samples_numpy[:, idx, :],\n",
    "        fs=200,\n",
    "        nperseg=260,\n",
    "        agg_function=np.median,\n",
    "        with_quantiles=True,\n",
    "        x_ss=slice(0, 60),\n",
    "        color_one=\"black\",\n",
    "        color_two=\"C3\",\n",
    "    )\n",
    "plt.show()\n"
   ]
  },
  {
   "cell_type": "markdown",
   "metadata": {},
   "source": [
    "## Plot the evoked potentials\n",
    "\n",
    "For all 56 channels. Red is generated, black is real. Mean and standard deviation are shown."
   ]
  },
  {
   "cell_type": "code",
   "execution_count": null,
   "metadata": {},
   "outputs": [],
   "source": [
    "fig, axs = plt.subplots(num_channels // 5 + 1, 5, figsize=(45, 45))\n",
    "for idx in range(num_channels):\n",
    "    axs[idx // 5, idx % 5].fill_between(\n",
    "        np.arange(260),\n",
    "        np.quantile(raw_numpy[:, idx, :], 0.1, axis=0),\n",
    "        np.quantile(raw_numpy[:, idx, :], 0.9, axis=0),\n",
    "        color=\"black\",\n",
    "        alpha=0.2,\n",
    "    )\n",
    "    axs[idx // 5, idx % 5].fill_between(\n",
    "        np.arange(260),\n",
    "        np.quantile(samples_numpy[:, idx, :], 0.1, axis=0),\n",
    "        np.quantile(samples_numpy[:, idx, :], 0.9, axis=0),\n",
    "        color=\"C3\",\n",
    "        alpha=0.2,\n",
    "    )\n",
    "    axs[idx // 5, idx % 5].plot(\n",
    "        np.mean(raw_numpy[:, idx, :], axis=0),\n",
    "        color=\"black\",\n",
    "    )\n",
    "    axs[idx // 5, idx % 5].plot(\n",
    "        np.mean(samples_numpy[:, idx, :], axis=0),\n",
    "        color=\"C3\",\n",
    "    )\n",
    "plt.show()\n"
   ]
  },
  {
   "cell_type": "markdown",
   "metadata": {},
   "source": [
    "## Plot the topomaps\n",
    "\n",
    "For both real and generated data."
   ]
  },
  {
   "cell_type": "code",
   "execution_count": null,
   "metadata": {},
   "outputs": [],
   "source": [
    "csv_path = \"../data/CorrectedChannelsLocation.csv\"\n",
    "chan_info = read_csv(csv_path)\n",
    "\n",
    "montage = mne.channels.make_standard_montage(\"standard_1020\")\n",
    "info = mne.create_info(ch_names=list(chan_info[\"Labels\"]), sfreq=200, ch_types=\"eeg\")\n",
    "info.set_montage(montage)\n",
    "times = np.arange(0.15, 0.35, 0.05)\n",
    "for samples in [raw_numpy, samples_numpy]:\n",
    "    evoked = mne.EvokedArray(samples.mean(0), info)\n",
    "    evoked.plot_topomap(\n",
    "        times,\n",
    "        ch_type=\"eeg\",\n",
    "        scalings=1.0,\n",
    "        vlim=(-0.5, 0.5),\n",
    "        image_interp=\"cubic\",\n",
    "        colorbar=False,\n",
    "        res=300,\n",
    "        size=1.5,\n",
    "    )\n"
   ]
  }
 ],
 "metadata": {
  "kernelspec": {
   "display_name": ".env",
   "language": "python",
   "name": "python3"
  },
  "language_info": {
   "codemirror_mode": {
    "name": "ipython",
    "version": 3
   },
   "file_extension": ".py",
   "mimetype": "text/x-python",
   "name": "python",
   "nbconvert_exporter": "python",
   "pygments_lexer": "ipython3",
   "version": "3.9.6"
  }
 },
 "nbformat": 4,
 "nbformat_minor": 2
}
